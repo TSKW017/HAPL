{
  "nbformat": 4,
  "nbformat_minor": 0,
  "metadata": {
    "colab": {
      "provenance": []
    },
    "kernelspec": {
      "name": "python3",
      "display_name": "Python 3"
    },
    "language_info": {
      "name": "python"
    }
  },
  "cells": [
    {
      "cell_type": "code",
      "execution_count": 1,
      "metadata": {
        "colab": {
          "base_uri": "https://localhost:8080/"
        },
        "id": "ypMKsxsSTUEj",
        "outputId": "348e8162-a1cf-482c-b132-047d0a3f03ac"
      },
      "outputs": [
        {
          "output_type": "stream",
          "name": "stdout",
          "text": [
            "輸出:I'm a student\n"
          ]
        }
      ],
      "source": [
        "print(\"輸出:I'm a student\")"
      ]
    },
    {
      "cell_type": "code",
      "source": [
        "a = int(input('''輸入座標A(x1,y1):\n",
        "x1='''))\n",
        "b = int(input('''輸入座標A(x1,y1):\n",
        "y1='''))\n",
        "c = int(input('''輸入座標A(x2,y2):\n",
        "x2='''))\n",
        "d = int(input('''輸入座標A(x2,y2):\n",
        "y2='''))\n",
        "z=((a-c)**2+(b-d)**2)**0.5\n",
        "print(\"兩座標之間的距離\",z)"
      ],
      "metadata": {
        "colab": {
          "base_uri": "https://localhost:8080/"
        },
        "id": "Bb1aVYy9Tily",
        "outputId": "7730b861-67fd-4278-bddc-b3f1634da3ae"
      },
      "execution_count": 2,
      "outputs": [
        {
          "output_type": "stream",
          "name": "stdout",
          "text": [
            "輸入座標A(x1,y1):\n",
            "x1=8\n",
            "輸入座標A(x1,y1):\n",
            "y1=7\n",
            "輸入座標A(x2,y2):\n",
            "x2=4\n",
            "輸入座標A(x2,y2):\n",
            "y2=5\n",
            "兩座標之間的距離 4.47213595499958\n"
          ]
        }
      ]
    },
    {
      "cell_type": "code",
      "source": [
        "a = int(input('''身高(cm)\n",
        "'''))\n",
        "b = int(input('''體重(KG)\n",
        "'''))\n",
        "b/=((a/100)**2)\n",
        "print('你的BMI:',b)"
      ],
      "metadata": {
        "colab": {
          "base_uri": "https://localhost:8080/"
        },
        "id": "V09bIYj7Vk9z",
        "outputId": "7b146833-0c71-41e1-ff3e-768cb0cee1be"
      },
      "execution_count": 4,
      "outputs": [
        {
          "output_type": "stream",
          "name": "stdout",
          "text": [
            "身高(cm)\n",
            "175\n",
            "體重(KG)\n",
            "83\n",
            "你的BMI: 27.102040816326532\n"
          ]
        }
      ]
    }
  ]
}