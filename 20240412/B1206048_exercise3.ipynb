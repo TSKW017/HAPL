{
  "nbformat": 4,
  "nbformat_minor": 0,
  "metadata": {
    "colab": {
      "provenance": []
    },
    "kernelspec": {
      "name": "python3",
      "display_name": "Python 3"
    },
    "language_info": {
      "name": "python"
    }
  },
  "cells": [
    {
      "cell_type": "code",
      "execution_count": 5,
      "metadata": {
        "id": "RO7NKqBAzHB5",
        "colab": {
          "base_uri": "https://localhost:8080/"
        },
        "outputId": "629ada6b-1f9e-4476-9611-1653a1b438a9"
      },
      "outputs": [
        {
          "output_type": "stream",
          "name": "stdout",
          "text": [
            "請輸入你的體重（公斤）：83\n",
            "請輸入你的身高（公分）：175\n",
            "BMI: 27.102040816326532\n",
            "體位:肥胖\n"
          ]
        }
      ],
      "source": [
        "Kg=float(input(\"請輸入你的體重（公斤）：\"))\n",
        "Cm=float(input(\"請輸入你的身高（公分）：\"))\n",
        "BMI=Kg/(Cm/100)**2\n",
        "print(\"BMI:\",BMI)\n",
        "if BMI<18.5:\n",
        "  print(\"體位:過輕\")\n",
        "elif 18.5<=BMI<24:\n",
        "  print(\"體位:適中\")\n",
        "elif 24<=BMI<27:\n",
        "  print(\"體位:過重\")\n",
        "else:\n",
        "  print(\"體位:肥胖\")"
      ]
    },
    {
      "cell_type": "code",
      "source": [
        "a=float(input(\"輸入第一個數字：\"))\n",
        "c=input(\"輸入運算符號\")\n",
        "b=float(input(\"輸入第二個數字:\"))\n",
        "if c==\"+\":\n",
        " print(a+b)\n",
        "elif c==\"-\":\n",
        " print(a-b)\n",
        "elif c==\"*\":\n",
        " print(a*b)\n",
        "elif c==\"/\":\n",
        " if a==0 or b==0:\n",
        "  print(\"除數不能等於零\")\n",
        " else:\n",
        "  print(a/b)\n"
      ],
      "metadata": {
        "id": "t8ArQcMX8HG1",
        "colab": {
          "base_uri": "https://localhost:8080/"
        },
        "outputId": "e315e360-806a-4a9f-9864-4881d7d9242b"
      },
      "execution_count": 4,
      "outputs": [
        {
          "output_type": "stream",
          "name": "stdout",
          "text": [
            "輸入第一個數字：10\n",
            "輸入運算符號/\n",
            "輸入第二個數字:5\n",
            "2.0\n"
          ]
        }
      ]
    },
    {
      "cell_type": "markdown",
      "source": [],
      "metadata": {
        "id": "vH1te5sf8ITJ"
      }
    }
  ]
}