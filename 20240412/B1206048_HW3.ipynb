{
  "nbformat": 4,
  "nbformat_minor": 0,
  "metadata": {
    "colab": {
      "provenance": []
    },
    "kernelspec": {
      "name": "python3",
      "display_name": "Python 3"
    },
    "language_info": {
      "name": "python"
    }
  },
  "cells": [
    {
      "cell_type": "code",
      "execution_count": 11,
      "metadata": {
        "colab": {
          "base_uri": "https://localhost:8080/"
        },
        "id": "3GWmX-Xy3cbZ",
        "outputId": "44533990-fd4d-43f3-8315-d37f57f45d2b"
      },
      "outputs": [
        {
          "output_type": "stream",
          "name": "stdout",
          "text": [
            "年份為2012\n",
            "2012 為閏年\n"
          ]
        }
      ],
      "source": [
        "year=int(input(\"年份為\"))\n",
        "if year<=1582:\n",
        "  if year%4==0:\n",
        "    print(year,\"為閏年\")\n",
        "  else:\n",
        "    print(year,\"為平年\")\n",
        "if year>1582:\n",
        "  if (year%4==0 and year%100!=0) or year%400==0:\n",
        "    print(year,\"為閏年\")\n",
        "  else:\n",
        "    print(year,\"為平年\")"
      ]
    }
  ]
}