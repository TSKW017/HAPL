{
  "nbformat": 4,
  "nbformat_minor": 0,
  "metadata": {
    "colab": {
      "provenance": []
    },
    "kernelspec": {
      "name": "python3",
      "display_name": "Python 3"
    },
    "language_info": {
      "name": "python"
    }
  },
  "cells": [
    {
      "cell_type": "code",
      "execution_count": 9,
      "metadata": {
        "id": "L3l9vKd28enY",
        "colab": {
          "base_uri": "https://localhost:8080/"
        },
        "outputId": "67817504-ded8-4c30-bd52-c5124e0c4147"
      },
      "outputs": [
        {
          "output_type": "stream",
          "name": "stdout",
          "text": [
            "請輸入聖誕樹高度（至少7層以上）：9\n",
            "        *\n",
            "       ***\n",
            "      *****\n",
            "     *******\n",
            "    *********\n",
            "   ***********\n",
            "  *************\n",
            " ***************\n",
            "*****************\n",
            "       ***\n",
            "       ***\n",
            "       ***\n",
            "       ***\n",
            "       ***\n"
          ]
        }
      ],
      "source": [
        "def draw_christmas_tree(height):\n",
        "    if height < 7:\n",
        "        print(\"請輸入至少7層以上的聖誕樹高度！\")\n",
        "        return\n",
        "    for i in range(1, height + 1):\n",
        "        print(\" \" * (height - i) + \"*\" * (2 * i - 1))\n",
        "    for _ in range(5):\n",
        "        print(\" \" * (height - 2) + \"***\")\n",
        "\n",
        "tree_height = int(input(\"請輸入聖誕樹高度（至少7層以上）：\"))\n",
        "draw_christmas_tree(tree_height)"
      ]
    },
    {
      "cell_type": "code",
      "source": [
        "def BMI (Kg,Cm):\n",
        "  BMI = Kg/(Cm/100)**2\n",
        "  return BMI\n",
        "try:\n",
        "  Kg=float(input(\"請輸入你的體重（公斤）：\"))\n",
        "  Cm=float(input(\"請輸入你的身高（公分）：\"))\n",
        "  BMI=Kg/(Cm/100)**2\n",
        "  print(\"BMI:\",BMI)\n",
        "  if BMI<18.5:\n",
        "   print(\"體位:過輕\")\n",
        "  elif 18.5<=BMI<24:\n",
        "   print(\"體位:適中\")\n",
        "  elif 24<=BMI<27:\n",
        "   print(\"體位:過重\")\n",
        "  else:\n",
        "   print(\"體位:肥胖\")\n",
        "except:\n",
        "  print('輸⼊內容錯誤')"
      ],
      "metadata": {
        "id": "ICRZHTX1Akcx",
        "colab": {
          "base_uri": "https://localhost:8080/"
        },
        "outputId": "e8be6b9d-737a-49a9-f3c9-25fc9b9d834b"
      },
      "execution_count": 11,
      "outputs": [
        {
          "output_type": "stream",
          "name": "stdout",
          "text": [
            "請輸入你的體重（公斤）：80\n",
            "請輸入你的身高（公分）：175\n",
            "BMI: 26.122448979591837\n",
            "體位:過重\n"
          ]
        }
      ]
    }
  ]
}